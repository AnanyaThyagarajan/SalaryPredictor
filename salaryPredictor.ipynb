{
 "cells": [
  {
   "cell_type": "code",
   "execution_count": 1,
   "metadata": {},
   "outputs": [],
   "source": [
    "import pandas as pd\n",
    "import sklearn\n",
    "from sklearn.model_selection import train_test_split\n",
    "from sklearn.preprocessing import OneHotEncoder\n",
    "from sklearn.linear_model import LinearRegression\n",
    "from sklearn.compose import ColumnTransformer\n",
    "from sklearn.pipeline import Pipeline\n",
    "from sklearn.metrics import mean_squared_error"
   ]
  },
  {
   "cell_type": "code",
   "execution_count": 2,
   "metadata": {},
   "outputs": [
    {
     "name": "stdout",
     "output_type": "stream",
     "text": [
      "Defaulting to user installation because normal site-packages is not writeable\n",
      "Requirement already satisfied: pycountry in c:\\users\\ananya\\appdata\\roaming\\python\\python313\\site-packages (24.6.1)\n"
     ]
    },
    {
     "name": "stderr",
     "output_type": "stream",
     "text": [
      "\n",
      "[notice] A new release of pip is available: 25.0.1 -> 25.1.1\n",
      "[notice] To update, run: C:\\Python313\\python.exe -m pip install --upgrade pip\n"
     ]
    }
   ],
   "source": [
    "!pip install pycountry"
   ]
  },
  {
   "cell_type": "code",
   "execution_count": 3,
   "metadata": {},
   "outputs": [],
   "source": [
    "datadf = pd.read_csv(\"ai-jobs-net-salaries.csv\")\n"
   ]
  },
  {
   "cell_type": "code",
   "execution_count": 4,
   "metadata": {},
   "outputs": [
    {
     "data": {
      "text/html": [
       "<div>\n",
       "<style scoped>\n",
       "    .dataframe tbody tr th:only-of-type {\n",
       "        vertical-align: middle;\n",
       "    }\n",
       "\n",
       "    .dataframe tbody tr th {\n",
       "        vertical-align: top;\n",
       "    }\n",
       "\n",
       "    .dataframe thead th {\n",
       "        text-align: right;\n",
       "    }\n",
       "</style>\n",
       "<table border=\"1\" class=\"dataframe\">\n",
       "  <thead>\n",
       "    <tr style=\"text-align: right;\">\n",
       "      <th></th>\n",
       "      <th>work_year</th>\n",
       "      <th>experience_level</th>\n",
       "      <th>employment_type</th>\n",
       "      <th>job_title</th>\n",
       "      <th>salary</th>\n",
       "      <th>salary_currency</th>\n",
       "      <th>salary_in_usd</th>\n",
       "      <th>employee_residence</th>\n",
       "      <th>remote_ratio</th>\n",
       "      <th>company_location</th>\n",
       "      <th>company_size</th>\n",
       "    </tr>\n",
       "  </thead>\n",
       "  <tbody>\n",
       "    <tr>\n",
       "      <th>0</th>\n",
       "      <td>2025</td>\n",
       "      <td>MI</td>\n",
       "      <td>FT</td>\n",
       "      <td>Research Engineer</td>\n",
       "      <td>55000</td>\n",
       "      <td>EUR</td>\n",
       "      <td>57894</td>\n",
       "      <td>BE</td>\n",
       "      <td>50</td>\n",
       "      <td>BE</td>\n",
       "      <td>L</td>\n",
       "    </tr>\n",
       "    <tr>\n",
       "      <th>1</th>\n",
       "      <td>2025</td>\n",
       "      <td>EN</td>\n",
       "      <td>FT</td>\n",
       "      <td>Data Analyst</td>\n",
       "      <td>147000</td>\n",
       "      <td>USD</td>\n",
       "      <td>147000</td>\n",
       "      <td>US</td>\n",
       "      <td>0</td>\n",
       "      <td>US</td>\n",
       "      <td>M</td>\n",
       "    </tr>\n",
       "    <tr>\n",
       "      <th>2</th>\n",
       "      <td>2025</td>\n",
       "      <td>EN</td>\n",
       "      <td>FT</td>\n",
       "      <td>Data Analyst</td>\n",
       "      <td>60900</td>\n",
       "      <td>USD</td>\n",
       "      <td>60900</td>\n",
       "      <td>US</td>\n",
       "      <td>0</td>\n",
       "      <td>US</td>\n",
       "      <td>M</td>\n",
       "    </tr>\n",
       "    <tr>\n",
       "      <th>3</th>\n",
       "      <td>2025</td>\n",
       "      <td>SE</td>\n",
       "      <td>FT</td>\n",
       "      <td>Software Engineer</td>\n",
       "      <td>303500</td>\n",
       "      <td>USD</td>\n",
       "      <td>303500</td>\n",
       "      <td>US</td>\n",
       "      <td>0</td>\n",
       "      <td>US</td>\n",
       "      <td>M</td>\n",
       "    </tr>\n",
       "    <tr>\n",
       "      <th>4</th>\n",
       "      <td>2025</td>\n",
       "      <td>SE</td>\n",
       "      <td>FT</td>\n",
       "      <td>Software Engineer</td>\n",
       "      <td>159800</td>\n",
       "      <td>USD</td>\n",
       "      <td>159800</td>\n",
       "      <td>US</td>\n",
       "      <td>0</td>\n",
       "      <td>US</td>\n",
       "      <td>M</td>\n",
       "    </tr>\n",
       "    <tr>\n",
       "      <th>5</th>\n",
       "      <td>2025</td>\n",
       "      <td>SE</td>\n",
       "      <td>FT</td>\n",
       "      <td>Developer</td>\n",
       "      <td>135000</td>\n",
       "      <td>USD</td>\n",
       "      <td>135000</td>\n",
       "      <td>US</td>\n",
       "      <td>0</td>\n",
       "      <td>US</td>\n",
       "      <td>M</td>\n",
       "    </tr>\n",
       "    <tr>\n",
       "      <th>6</th>\n",
       "      <td>2025</td>\n",
       "      <td>SE</td>\n",
       "      <td>FT</td>\n",
       "      <td>Developer</td>\n",
       "      <td>95000</td>\n",
       "      <td>USD</td>\n",
       "      <td>95000</td>\n",
       "      <td>US</td>\n",
       "      <td>0</td>\n",
       "      <td>US</td>\n",
       "      <td>M</td>\n",
       "    </tr>\n",
       "    <tr>\n",
       "      <th>7</th>\n",
       "      <td>2025</td>\n",
       "      <td>SE</td>\n",
       "      <td>FT</td>\n",
       "      <td>Engineer</td>\n",
       "      <td>300000</td>\n",
       "      <td>USD</td>\n",
       "      <td>300000</td>\n",
       "      <td>US</td>\n",
       "      <td>0</td>\n",
       "      <td>US</td>\n",
       "      <td>M</td>\n",
       "    </tr>\n",
       "    <tr>\n",
       "      <th>8</th>\n",
       "      <td>2025</td>\n",
       "      <td>SE</td>\n",
       "      <td>FT</td>\n",
       "      <td>Engineer</td>\n",
       "      <td>70000</td>\n",
       "      <td>USD</td>\n",
       "      <td>70000</td>\n",
       "      <td>US</td>\n",
       "      <td>0</td>\n",
       "      <td>US</td>\n",
       "      <td>M</td>\n",
       "    </tr>\n",
       "    <tr>\n",
       "      <th>9</th>\n",
       "      <td>2025</td>\n",
       "      <td>MI</td>\n",
       "      <td>FT</td>\n",
       "      <td>Machine Learning Engineer</td>\n",
       "      <td>355000</td>\n",
       "      <td>USD</td>\n",
       "      <td>355000</td>\n",
       "      <td>US</td>\n",
       "      <td>0</td>\n",
       "      <td>US</td>\n",
       "      <td>M</td>\n",
       "    </tr>\n",
       "  </tbody>\n",
       "</table>\n",
       "</div>"
      ],
      "text/plain": [
       "   work_year experience_level employment_type                  job_title  \\\n",
       "0       2025               MI              FT          Research Engineer   \n",
       "1       2025               EN              FT               Data Analyst   \n",
       "2       2025               EN              FT               Data Analyst   \n",
       "3       2025               SE              FT          Software Engineer   \n",
       "4       2025               SE              FT          Software Engineer   \n",
       "5       2025               SE              FT                  Developer   \n",
       "6       2025               SE              FT                  Developer   \n",
       "7       2025               SE              FT                   Engineer   \n",
       "8       2025               SE              FT                   Engineer   \n",
       "9       2025               MI              FT  Machine Learning Engineer   \n",
       "\n",
       "   salary salary_currency  salary_in_usd employee_residence  remote_ratio  \\\n",
       "0   55000             EUR          57894                 BE            50   \n",
       "1  147000             USD         147000                 US             0   \n",
       "2   60900             USD          60900                 US             0   \n",
       "3  303500             USD         303500                 US             0   \n",
       "4  159800             USD         159800                 US             0   \n",
       "5  135000             USD         135000                 US             0   \n",
       "6   95000             USD          95000                 US             0   \n",
       "7  300000             USD         300000                 US             0   \n",
       "8   70000             USD          70000                 US             0   \n",
       "9  355000             USD         355000                 US             0   \n",
       "\n",
       "  company_location company_size  \n",
       "0               BE            L  \n",
       "1               US            M  \n",
       "2               US            M  \n",
       "3               US            M  \n",
       "4               US            M  \n",
       "5               US            M  \n",
       "6               US            M  \n",
       "7               US            M  \n",
       "8               US            M  \n",
       "9               US            M  "
      ]
     },
     "execution_count": 4,
     "metadata": {},
     "output_type": "execute_result"
    }
   ],
   "source": [
    "datadf.head(10)"
   ]
  },
  {
   "cell_type": "code",
   "execution_count": 5,
   "metadata": {},
   "outputs": [
    {
     "data": {
      "text/plain": [
       "Index(['work_year', 'experience_level', 'employment_type', 'job_title',\n",
       "       'salary', 'salary_currency', 'salary_in_usd', 'employee_residence',\n",
       "       'remote_ratio', 'company_location', 'company_size'],\n",
       "      dtype='object')"
      ]
     },
     "execution_count": 5,
     "metadata": {},
     "output_type": "execute_result"
    }
   ],
   "source": [
    "datadf.columns"
   ]
  },
  {
   "cell_type": "code",
   "execution_count": 6,
   "metadata": {},
   "outputs": [],
   "source": [
    "#replacing the values to expand for better understanding\n",
    "datadf['experience_level'] = datadf['experience_level'].replace({\n",
    "    'EN': 'Entry-level',\n",
    "    'MI': 'Mid-level',\n",
    "    'SE': 'Senior-level',\n",
    "    'EX': 'Executive-level'\n",
    "})"
   ]
  },
  {
   "cell_type": "code",
   "execution_count": 7,
   "metadata": {},
   "outputs": [
    {
     "data": {
      "text/plain": [
       "array(['Mid-level', 'Entry-level', 'Senior-level', 'Executive-level'],\n",
       "      dtype=object)"
      ]
     },
     "execution_count": 7,
     "metadata": {},
     "output_type": "execute_result"
    }
   ],
   "source": [
    "datadf['experience_level'].unique()"
   ]
  },
  {
   "cell_type": "code",
   "execution_count": 8,
   "metadata": {},
   "outputs": [
    {
     "data": {
      "text/plain": [
       "array(['FT', 'CT', 'PT', 'FL'], dtype=object)"
      ]
     },
     "execution_count": 8,
     "metadata": {},
     "output_type": "execute_result"
    }
   ],
   "source": [
    "\n",
    "datadf['employment_type'].unique()\n"
   ]
  },
  {
   "cell_type": "code",
   "execution_count": 9,
   "metadata": {},
   "outputs": [],
   "source": [
    "#replacing the values to expand for better understanding\n",
    "datadf['employment_type'] = datadf['employment_type'].replace({\n",
    "    'FT': 'Full-Time',\n",
    "    'CT': 'Contract',\n",
    "    'PT': 'Part-Time',\n",
    "    'FL': 'Freelance'\n",
    "})"
   ]
  },
  {
   "cell_type": "code",
   "execution_count": 10,
   "metadata": {},
   "outputs": [
    {
     "data": {
      "text/plain": [
       "array(['Full-Time', 'Contract', 'Part-Time', 'Freelance'], dtype=object)"
      ]
     },
     "execution_count": 10,
     "metadata": {},
     "output_type": "execute_result"
    }
   ],
   "source": [
    "datadf['employment_type'].unique()\n"
   ]
  },
  {
   "cell_type": "code",
   "execution_count": 11,
   "metadata": {},
   "outputs": [
    {
     "data": {
      "text/plain": [
       "array(['Mid-level', 'Entry-level', 'Senior-level', 'Executive-level'],\n",
       "      dtype=object)"
      ]
     },
     "execution_count": 11,
     "metadata": {},
     "output_type": "execute_result"
    }
   ],
   "source": [
    "datadf['experience_level'].unique()"
   ]
  },
  {
   "cell_type": "code",
   "execution_count": 12,
   "metadata": {},
   "outputs": [
    {
     "data": {
      "text/plain": [
       "array([ 50,   0, 100], dtype=int64)"
      ]
     },
     "execution_count": 12,
     "metadata": {},
     "output_type": "execute_result"
    }
   ],
   "source": [
    "\n",
    "datadf['remote_ratio'].unique()"
   ]
  },
  {
   "cell_type": "code",
   "execution_count": 13,
   "metadata": {},
   "outputs": [],
   "source": [
    "datadf = datadf.rename(columns={'remote_ratio': 'work_setting'})\n"
   ]
  },
  {
   "cell_type": "code",
   "execution_count": 14,
   "metadata": {},
   "outputs": [],
   "source": [
    "#maping the work setting labels\n",
    "datadf['work_setting'] = datadf['work_setting'].map({\n",
    "    0: 'In-person',\n",
    "    50: 'Hybrid',\n",
    "    100: 'Remote'\n",
    "})"
   ]
  },
  {
   "cell_type": "code",
   "execution_count": 15,
   "metadata": {},
   "outputs": [
    {
     "data": {
      "text/plain": [
       "array(['BE', 'US', 'CA', 'GB', 'ZA', 'AT', 'PL', 'NO', 'FI', 'LT', 'DE',\n",
       "       'NL', 'PT', 'EE', 'AU', 'IE', 'SK', 'PH', 'FR', 'EG', 'MX', 'JO',\n",
       "       'ES', 'BR', 'CY', 'LV', 'NZ', 'AR', 'CO', 'UA', 'CH', 'TH', 'JM',\n",
       "       'JP', 'MT', 'MK', 'SI', 'HK', 'LS', 'IN', 'PE', 'SG', 'IT', 'HU',\n",
       "       'RO', 'PA', 'LU', 'DZ', 'CL', 'GR', 'KE', 'CD', 'SE', 'KR', 'TW',\n",
       "       'CZ', 'TR', 'DK', 'AE', 'BG', 'ID', 'RS', 'PR', 'SV', 'EC', 'DO',\n",
       "       'MY', 'XK', 'CR', 'ZM', 'AM', 'IL', 'LB', 'NG', 'HR', 'PK', 'HN',\n",
       "       'VE', 'AS', 'SA', 'OM', 'BA', 'VN', 'GI', 'MU', 'RU', 'QA', 'GH',\n",
       "       'AD', 'CF', 'IR', 'BS', 'IQ', 'CN', 'MD'], dtype=object)"
      ]
     },
     "execution_count": 15,
     "metadata": {},
     "output_type": "execute_result"
    }
   ],
   "source": [
    "datadf['company_location'].unique()\n"
   ]
  },
  {
   "cell_type": "code",
   "execution_count": 26,
   "metadata": {},
   "outputs": [],
   "source": [
    "import pycountry\n",
    "\n",
    "#creating a function to capture full country names from the 2 letter \n",
    "\n",
    "def get_countryNames(code):\n",
    "    try:\n",
    "        return pycountry.countries.get(alpha_2=code).name\n",
    "    except:\n",
    "        return code\n",
    "\n",
    "\n",
    "cleanup_mapping = {\n",
    "    'USA': 'United States of America',\n",
    "    'UK': 'United Kingdom',\n",
    "    'Venezuela, Bolivarian Republic of': 'Venezuela',\n",
    "    'Iran, Islamic Republic of': 'Iran',\n",
    "    'Bolivia, Plurinational State of': 'Bolivia',\n",
    "    'Korea, Republic of': 'South Korea',\n",
    "    'Russian Federation': 'Russia',\n",
    "    'Taiwan, Province of China': 'Taiwan',\n",
    "    'United States': 'United States of America',\n",
    "    'United Kingdom': 'United Kingdom',\n",
    "    'Viet Nam': 'Vietnam',\n",
    "    'Syrian Arab Republic': 'Syria',\n",
    "    'Czechia': 'Czech Republic',\n",
    "    'XX': 'Unknown'\n",
    "    # Add more as needed\n",
    "}\n",
    "\n",
    "\n",
    "datadf['company_location'] = datadf['company_location'].apply(get_countryNames)\n",
    "\n",
    "datadf['company_location'] = datadf['company_location'].replace(cleanup_mapping)"
   ]
  },
  {
   "cell_type": "code",
   "execution_count": 27,
   "metadata": {},
   "outputs": [
    {
     "data": {
      "text/plain": [
       "array(['Belgium', 'United States of America', 'Canada', 'United Kingdom',\n",
       "       'South Africa', 'Austria', 'Poland', 'Norway', 'Finland',\n",
       "       'Lithuania', 'Germany', 'Netherlands', 'Portugal', 'Estonia',\n",
       "       'Australia', 'Ireland', 'Slovakia', 'Philippines', 'France',\n",
       "       'Egypt', 'Mexico', 'Jordan', 'Spain', 'Brazil', 'Cyprus', 'Latvia',\n",
       "       'New Zealand', 'Argentina', 'Colombia', 'Ukraine', 'Switzerland',\n",
       "       'Thailand', 'Jamaica', 'Japan', 'Malta', 'North Macedonia',\n",
       "       'Slovenia', 'Hong Kong', 'Lesotho', 'India', 'Peru', 'Singapore',\n",
       "       'Italy', 'Hungary', 'Romania', 'Panama', 'Luxembourg', 'Algeria',\n",
       "       'Chile', 'Greece', 'Kenya',\n",
       "       'Congo, The Democratic Republic of the', 'Sweden', 'South Korea',\n",
       "       'Taiwan', 'Czech Republic', 'Türkiye', 'Denmark',\n",
       "       'United Arab Emirates', 'Bulgaria', 'Indonesia', 'Serbia',\n",
       "       'Puerto Rico', 'El Salvador', 'Ecuador', 'Dominican Republic',\n",
       "       'Malaysia', 'XK', 'Costa Rica', 'Zambia', 'Armenia', 'Israel',\n",
       "       'Lebanon', 'Nigeria', 'Croatia', 'Pakistan', 'Honduras',\n",
       "       'Venezuela', 'American Samoa', 'Saudi Arabia', 'Oman',\n",
       "       'Bosnia and Herzegovina', 'Vietnam', 'Gibraltar', 'Mauritius',\n",
       "       'Russia', 'Qatar', 'Ghana', 'Andorra', 'Central African Republic',\n",
       "       'Iran', 'Bahamas', 'Iraq', 'China', 'Moldova, Republic of'],\n",
       "      dtype=object)"
      ]
     },
     "execution_count": 27,
     "metadata": {},
     "output_type": "execute_result"
    }
   ],
   "source": [
    "datadf['company_location'].unique()"
   ]
  },
  {
   "cell_type": "code",
   "execution_count": 28,
   "metadata": {},
   "outputs": [
    {
     "data": {
      "text/plain": [
       "array(['Belgium', 'USA', 'Canada', 'UK', 'South Africa', 'Austria',\n",
       "       'Poland', 'Norway', 'Finland', 'Lithuania', 'Germany',\n",
       "       'Netherlands', 'Portugal', 'Estonia', 'Australia', 'Ireland',\n",
       "       'Slovakia', 'Philippines', 'France', 'Egypt', 'Mexico', 'Spain',\n",
       "       'Jordan', 'Brazil', 'Cyprus', 'Latvia', 'New Zealand', 'Argentina',\n",
       "       'Colombia', 'Ukraine', 'Switzerland', 'Thailand', 'Jamaica',\n",
       "       'Japan', 'Malta', 'Italy', 'North Macedonia', 'Slovenia',\n",
       "       'Hong Kong', 'Lesotho', 'India', 'Indonesia', 'Peru', 'Singapore',\n",
       "       'Hungary', 'Romania', 'Panama', 'Luxembourg', 'Algeria', 'Chile',\n",
       "       'Greece', 'Kenya', 'Congo, The Democratic Republic of the',\n",
       "       'Sweden', 'South Korea', 'Taiwan', 'Czech Republic', 'Türkiye',\n",
       "       'Nigeria', 'Denmark', 'United Arab Emirates', 'Bulgaria', 'Serbia',\n",
       "       'Puerto Rico', 'El Salvador', 'Ecuador', 'Dominican Republic',\n",
       "       'Malaysia', 'XK', 'Costa Rica', 'Zambia', 'Armenia', 'Rwanda',\n",
       "       'Israel', 'Lebanon', 'Croatia', 'Pakistan', 'Honduras',\n",
       "       'Venezuela', 'Bermuda', 'Vietnam', 'Georgia', 'Saudi Arabia',\n",
       "       'Oman', 'Bosnia and Herzegovina', 'Uganda', 'Mauritius', 'Qatar',\n",
       "       'Russia', 'Tunisia', 'Ghana', 'Andorra', 'Moldova, Republic of',\n",
       "       'Uzbekistan', 'Central African Republic', 'Kuwait', 'Iran',\n",
       "       'American Samoa', 'China', 'Bolivia', 'Iraq', 'Jersey'],\n",
       "      dtype=object)"
      ]
     },
     "execution_count": 28,
     "metadata": {},
     "output_type": "execute_result"
    }
   ],
   "source": [
    "datadf['employee_residence'].unique()"
   ]
  },
  {
   "cell_type": "code",
   "execution_count": 29,
   "metadata": {},
   "outputs": [],
   "source": [
    "datadf['employee_residence'] = datadf['employee_residence'].apply(get_countryNames)\n",
    "datadf['employee_residence'] = datadf['employee_residence'].replace(cleanup_mapping)"
   ]
  },
  {
   "cell_type": "code",
   "execution_count": 30,
   "metadata": {},
   "outputs": [
    {
     "data": {
      "text/plain": [
       "array(['Belgium', 'United States of America', 'Canada', 'United Kingdom',\n",
       "       'South Africa', 'Austria', 'Poland', 'Norway', 'Finland',\n",
       "       'Lithuania', 'Germany', 'Netherlands', 'Portugal', 'Estonia',\n",
       "       'Australia', 'Ireland', 'Slovakia', 'Philippines', 'France',\n",
       "       'Egypt', 'Mexico', 'Spain', 'Jordan', 'Brazil', 'Cyprus', 'Latvia',\n",
       "       'New Zealand', 'Argentina', 'Colombia', 'Ukraine', 'Switzerland',\n",
       "       'Thailand', 'Jamaica', 'Japan', 'Malta', 'Italy',\n",
       "       'North Macedonia', 'Slovenia', 'Hong Kong', 'Lesotho', 'India',\n",
       "       'Indonesia', 'Peru', 'Singapore', 'Hungary', 'Romania', 'Panama',\n",
       "       'Luxembourg', 'Algeria', 'Chile', 'Greece', 'Kenya',\n",
       "       'Congo, The Democratic Republic of the', 'Sweden', 'South Korea',\n",
       "       'Taiwan', 'Czech Republic', 'Türkiye', 'Nigeria', 'Denmark',\n",
       "       'United Arab Emirates', 'Bulgaria', 'Serbia', 'Puerto Rico',\n",
       "       'El Salvador', 'Ecuador', 'Dominican Republic', 'Malaysia', 'XK',\n",
       "       'Costa Rica', 'Zambia', 'Armenia', 'Rwanda', 'Israel', 'Lebanon',\n",
       "       'Croatia', 'Pakistan', 'Honduras', 'Venezuela', 'Bermuda',\n",
       "       'Vietnam', 'Georgia', 'Saudi Arabia', 'Oman',\n",
       "       'Bosnia and Herzegovina', 'Uganda', 'Mauritius', 'Qatar', 'Russia',\n",
       "       'Tunisia', 'Ghana', 'Andorra', 'Moldova, Republic of',\n",
       "       'Uzbekistan', 'Central African Republic', 'Kuwait', 'Iran',\n",
       "       'American Samoa', 'China', 'Bolivia', 'Iraq', 'Jersey'],\n",
       "      dtype=object)"
      ]
     },
     "execution_count": 30,
     "metadata": {},
     "output_type": "execute_result"
    }
   ],
   "source": [
    "datadf['employee_residence'].unique()\n"
   ]
  },
  {
   "cell_type": "code",
   "execution_count": 32,
   "metadata": {},
   "outputs": [
    {
     "data": {
      "text/plain": [
       "array(['L', 'M', 'S'], dtype=object)"
      ]
     },
     "execution_count": 32,
     "metadata": {},
     "output_type": "execute_result"
    }
   ],
   "source": [
    "datadf['company_size'].unique()"
   ]
  },
  {
   "cell_type": "code",
   "execution_count": 33,
   "metadata": {},
   "outputs": [],
   "source": [
    "#replacing the values to expand for better understanding\n",
    "datadf['company_size'] = datadf['company_size'].replace({\n",
    "    'L': 'Large',\n",
    "    'M': 'Medium',\n",
    "    'S': 'Small'\n",
    "})"
   ]
  },
  {
   "cell_type": "code",
   "execution_count": 34,
   "metadata": {},
   "outputs": [
    {
     "data": {
      "text/html": [
       "<div>\n",
       "<style scoped>\n",
       "    .dataframe tbody tr th:only-of-type {\n",
       "        vertical-align: middle;\n",
       "    }\n",
       "\n",
       "    .dataframe tbody tr th {\n",
       "        vertical-align: top;\n",
       "    }\n",
       "\n",
       "    .dataframe thead th {\n",
       "        text-align: right;\n",
       "    }\n",
       "</style>\n",
       "<table border=\"1\" class=\"dataframe\">\n",
       "  <thead>\n",
       "    <tr style=\"text-align: right;\">\n",
       "      <th></th>\n",
       "      <th>work_year</th>\n",
       "      <th>experience_level</th>\n",
       "      <th>employment_type</th>\n",
       "      <th>job_title</th>\n",
       "      <th>salary</th>\n",
       "      <th>salary_currency</th>\n",
       "      <th>salary_in_usd</th>\n",
       "      <th>employee_residence</th>\n",
       "      <th>work_setting</th>\n",
       "      <th>company_location</th>\n",
       "      <th>company_size</th>\n",
       "    </tr>\n",
       "  </thead>\n",
       "  <tbody>\n",
       "    <tr>\n",
       "      <th>0</th>\n",
       "      <td>2025</td>\n",
       "      <td>Mid-level</td>\n",
       "      <td>Full-Time</td>\n",
       "      <td>Research Engineer</td>\n",
       "      <td>55000</td>\n",
       "      <td>EUR</td>\n",
       "      <td>57894</td>\n",
       "      <td>Belgium</td>\n",
       "      <td>Hybrid</td>\n",
       "      <td>Belgium</td>\n",
       "      <td>Large</td>\n",
       "    </tr>\n",
       "    <tr>\n",
       "      <th>1</th>\n",
       "      <td>2025</td>\n",
       "      <td>Entry-level</td>\n",
       "      <td>Full-Time</td>\n",
       "      <td>Data Analyst</td>\n",
       "      <td>147000</td>\n",
       "      <td>USD</td>\n",
       "      <td>147000</td>\n",
       "      <td>United States of America</td>\n",
       "      <td>In-person</td>\n",
       "      <td>United States of America</td>\n",
       "      <td>Medium</td>\n",
       "    </tr>\n",
       "    <tr>\n",
       "      <th>2</th>\n",
       "      <td>2025</td>\n",
       "      <td>Entry-level</td>\n",
       "      <td>Full-Time</td>\n",
       "      <td>Data Analyst</td>\n",
       "      <td>60900</td>\n",
       "      <td>USD</td>\n",
       "      <td>60900</td>\n",
       "      <td>United States of America</td>\n",
       "      <td>In-person</td>\n",
       "      <td>United States of America</td>\n",
       "      <td>Medium</td>\n",
       "    </tr>\n",
       "    <tr>\n",
       "      <th>3</th>\n",
       "      <td>2025</td>\n",
       "      <td>Senior-level</td>\n",
       "      <td>Full-Time</td>\n",
       "      <td>Software Engineer</td>\n",
       "      <td>303500</td>\n",
       "      <td>USD</td>\n",
       "      <td>303500</td>\n",
       "      <td>United States of America</td>\n",
       "      <td>In-person</td>\n",
       "      <td>United States of America</td>\n",
       "      <td>Medium</td>\n",
       "    </tr>\n",
       "    <tr>\n",
       "      <th>4</th>\n",
       "      <td>2025</td>\n",
       "      <td>Senior-level</td>\n",
       "      <td>Full-Time</td>\n",
       "      <td>Software Engineer</td>\n",
       "      <td>159800</td>\n",
       "      <td>USD</td>\n",
       "      <td>159800</td>\n",
       "      <td>United States of America</td>\n",
       "      <td>In-person</td>\n",
       "      <td>United States of America</td>\n",
       "      <td>Medium</td>\n",
       "    </tr>\n",
       "  </tbody>\n",
       "</table>\n",
       "</div>"
      ],
      "text/plain": [
       "   work_year experience_level employment_type          job_title  salary  \\\n",
       "0       2025        Mid-level       Full-Time  Research Engineer   55000   \n",
       "1       2025      Entry-level       Full-Time       Data Analyst  147000   \n",
       "2       2025      Entry-level       Full-Time       Data Analyst   60900   \n",
       "3       2025     Senior-level       Full-Time  Software Engineer  303500   \n",
       "4       2025     Senior-level       Full-Time  Software Engineer  159800   \n",
       "\n",
       "  salary_currency  salary_in_usd        employee_residence work_setting  \\\n",
       "0             EUR          57894                   Belgium       Hybrid   \n",
       "1             USD         147000  United States of America    In-person   \n",
       "2             USD          60900  United States of America    In-person   \n",
       "3             USD         303500  United States of America    In-person   \n",
       "4             USD         159800  United States of America    In-person   \n",
       "\n",
       "           company_location company_size  \n",
       "0                   Belgium        Large  \n",
       "1  United States of America       Medium  \n",
       "2  United States of America       Medium  \n",
       "3  United States of America       Medium  \n",
       "4  United States of America       Medium  "
      ]
     },
     "execution_count": 34,
     "metadata": {},
     "output_type": "execute_result"
    }
   ],
   "source": [
    "datadf.head()"
   ]
  },
  {
   "cell_type": "code",
   "execution_count": null,
   "metadata": {},
   "outputs": [],
   "source": []
  }
 ],
 "metadata": {
  "kernelspec": {
   "display_name": "Python 3",
   "language": "python",
   "name": "python3"
  },
  "language_info": {
   "codemirror_mode": {
    "name": "ipython",
    "version": 3
   },
   "file_extension": ".py",
   "mimetype": "text/x-python",
   "name": "python",
   "nbconvert_exporter": "python",
   "pygments_lexer": "ipython3",
   "version": "3.11.0"
  }
 },
 "nbformat": 4,
 "nbformat_minor": 2
}
